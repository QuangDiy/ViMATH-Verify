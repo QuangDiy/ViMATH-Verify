{
 "cells": [
  {
   "cell_type": "code",
   "execution_count": 3,
   "id": "83c040fe",
   "metadata": {},
   "outputs": [
    {
     "name": "stdout",
     "output_type": "stream",
     "text": [
      "False\n",
      "[8/5, '\\\\frac{8}{5}']\n",
      "[-5/7, '\\\\frac{-5}{7}']\n"
     ]
    }
   ],
   "source": [
    "from math_verify import verify\n",
    "from math_verify.parser import LatexExtractionConfig, StringExtractionConfig, ExprExtractionConfig, parse\n",
    "import re\n",
    "# Parse the gold and answer\n",
    "# If you know that gold will only contain latex or expr (no latex env), use\n",
    "# parse(gold, extraction_config=[LatexExtractionConfig()]) or parse(gold, extraction_config=[ExprExtractionConfig()])\n",
    "\n",
    "gold = parse(\"$(x - \\frac{4}{15}) . \\frac{4}{5} = \\frac{2}{5} + \\frac{2}{3}$ $(x - \\frac{4}{15}) . \\frac{4}{5} = \\frac{16}{15}$ $x - \\frac{4}{15} = \\frac{16}{15} : \\frac{4}{5}$ $x - \\frac{4}{15} = \\frac{4}{3}$ $x = \\frac{4}{3} + \\frac{4}{15}$ $x = \\frac{8}{5}$. Đáp án đúng là \\boxed{\\\\frac{8}{5}}.\", extraction_config=[LatexExtractionConfig(), ExprExtractionConfig()])\n",
    "answer = parse(\"$\\\\frac{-5}{7}$\", extraction_config=[LatexExtractionConfig()])\n",
    "\n",
    "# Order here is important!\n",
    "print(verify(gold, answer))\n",
    "\n",
    "print(gold)\n",
    "print(answer)"
   ]
  },
  {
   "cell_type": "code",
   "execution_count": 8,
   "id": "c031f34a",
   "metadata": {},
   "outputs": [
    {
     "name": "stdout",
     "output_type": "stream",
     "text": [
      "Cho $x, y$ là hai số thực thỏa mãn $x^2 + 5y^2 + 4xy + 3x + 4y = 27$.\n",
      "Tìm giá trị nhỏ nhất, lớn nhất của $M = x + 2y$.\n",
      "True\n",
      "[{-7, 4}, '-7, 4']\n",
      "[{-7, 4}, '-7, 4']\n"
     ]
    }
   ],
   "source": [
    "import json\n",
    "from math_verify import verify\n",
    "from math_verify.parser import LatexExtractionConfig, StringExtractionConfig, ExprExtractionConfig, parse, MultiChoiceExtractionConfig\n",
    "path = \"/home/duytq/ViMATH/ViMATH-Verify/Format-Test/output/THCS.json\"\n",
    "# path = \"/home/duytq/ViMATH/ViMATH-Verify/Format-Test/data/THCS.json\"\n",
    "with open(path, \"r\") as f:\n",
    "    data = json.load(f)\n",
    "\n",
    "sample = data[999]\n",
    "print(sample[\"Question\"])\n",
    "\n",
    "if sample[\"Type\"] == \"MultiChoiceExtractionConfig\":\n",
    "    config = [MultiChoiceExtractionConfig()]\n",
    "elif sample[\"Type\"] == \"ExprExtractionConfig\":\n",
    "    config = [ExprExtractionConfig()]\n",
    "else:\n",
    "    config = [LatexExtractionConfig(), ExprExtractionConfig()]\n",
    "\n",
    "gold = parse(sample[\"Explanation\"], extraction_config=config)\n",
    "answer = parse(sample[\"Answer\"], extraction_config=config)\n",
    "\n",
    "print(verify(gold, answer))\n",
    "\n",
    "print(gold)\n",
    "print(answer)"
   ]
  },
  {
   "cell_type": "code",
   "execution_count": 26,
   "id": "0d854283",
   "metadata": {},
   "outputs": [
    {
     "name": "stdout",
     "output_type": "stream",
     "text": [
      "**Instructions:**\n",
      "- Preserve the original reasoning structure in the formatted output without alteration.\n",
      "- If the final answer is textual and not directly convertible to an extraction target, reformat it as a multiple-choice question.\n",
      "- Remove conclusion phrases (e.g., \"Kết luận,\" \"Vì vậy,\" \"Do đó,\" \"Vậy\") at the start of sentences or paragraphs; merge multiple nearby conclusion phrases into a single concise statement.\n",
      "- Format the explanation's final answer within the `\\boxed{...}` environment using one of these structures:\n",
      "  - \"Đáp án cuối cùng là \\boxed{...}\", \"Đáp án đúng là \\boxed{...}\", or \"Đáp án là \\boxed{...}\".\n",
      "- Ensure the content inside `\\boxed{...}` follows Vietnamese formatting conventions (e.g., comma as decimal separator, period as thousands separator).\n",
      "\n",
      "**Key Guidelines:**\n",
      "- Retain multiple-choice options (A, B, C, D) in the question.\n",
      "- Prioritize LaTeX formatting for answers (e.g., lists, fractions like `\\frac{a}{b}`), with extracted answers in `$...$` or `$$...$$`, except for multiple-choice questions which use plain text.\n",
      "- Make sure punctuation and line breaks are complete.\n",
      "\n",
      "**Formatting Guidelines:**\n",
      "- Use **comma (,)** as the decimal separator (e.g., 3,14).\n",
      "- Do not use period (.) or comma (,) as a thousands separator.\n",
      "- Use **period (.)** as the thousands separator (e.g., 1.234,56).\n",
      "\n",
      "**Evaluation Library Guidelines:**\n",
      "- **Extraction Targets:**\n",
      "  - **LatexExtractionConfig**: For LaTeX expressions (e.g., `\\sqrt{2}`), must be in a LaTeX environment.\n",
      "  - **ExprExtractionConfig**: For plain mathematical expressions (e.g., `1/2`, '133,3').\n",
      "  - **MultiChoiceExtractionConfig**: For multiple-choice answers (e.g., `A`, `B`, `C`, `D`).\n",
      "\n",
      "**Dataset Settings:**\n",
      "- Determine the gold answer format:\n",
      "  - Simple numbers: Use `ExprExtractionConfig`.\n",
      "  - LaTeX expressions: Use `LatexExtractionConfig`.\n",
      "  - Floats: Match the specified precision.\n",
      "  - Multiple-choice options (A, B, C, D): Use `MultiChoiceExtractionConfig`.\n",
      "\n",
      "**Output Format:**\n",
      "Return the result as a JSON object:\n",
      "\n",
      "```json\n",
      "{\n",
      "  \"Explanation\": \"<Unchanged chain-of-thought reasoning with final answer in \\boxed{}>\",\n",
      "  \"Answer\": \"<Extracted final answer>\",\n",
      "  \"Type\": \"<Extraction config: LatexExtractionConfig, ExprExtractionConfig, or MultiChoiceExtractionConfig>\"\n",
      "}\n",
      "```\n",
      "\n",
      "**Example Input:**\n",
      "Question: Tính môđun của số phức $z$ thỏa mãn phương trình $z(1 - i) + 2i = 1$.\n",
      "\n",
      "Explanation: Ta có: $z(1 - i) + 2i = 1$ $z(1 - i) = 1 - 2i$ $z = \\frac{1 - 2i}{1 - i}$ Nhân cả tử và mẫu với số phức liên hợp của mẫu là $1 + i$: $z = \\frac{(1 - 2i)(1 + i)}{(1 - i)(1 + i)} = \\frac{1 + i - 2i - 2i^2}{1 - i^2} = \\frac{1 - i + 2}{1 - (-1)} = \\frac{3 - i}{2} = \\frac{3}{2} - \\frac{1}{2}i$ Môđun của số phức $z$ là: $|z| = \\sqrt{\\left(\\frac{3}{2}\\right)^2 + \\left(-\\frac{1}{2}\\right)^2} = \\sqrt{\\frac{9}{4} + \\frac{1}{4}} = \\sqrt{\\frac{10}{4}} = \\frac{\\sqrt{10}}{2}$ Vậy $|z| = \\frac{\\sqrt{10}}{2}$.\n",
      "\n",
      "**Expected Output:**\n",
      "\n",
      "```json\n",
      "{\n",
      "  \"Explanation\": \"Ta có: $z(1 - i) + 2i = 1$ $z(1 - i) = 1 - 2i$ $z = \\frac{1 - 2i}{1 - i}$ Nhân cả tử và mẫu với số phức liên hợp của mẫu là $1 + i$: $z = \\frac{(1 - 2i)(1 + i)}{(1 - i)(1 + i)} = \\frac{1 + i - 2i - 2i^2}{1 - i^2} = \\frac{1 - i + 2}{1 - (-1)} = \\frac{3 - i}{2} = \\frac{3}{2} - \\frac{1}{2}i$ Môđun của số phức $z$ là: $|z| = \\sqrt{\\left(\\frac{3}{2}\\right)^2 + \\left(-\\frac{1}{2}\\right)^2} = \\sqrt{\\frac{9}{4} + \\frac{1}{4}} = \\sqrt{\\frac{10}{4}} = \\frac{\\sqrt{10}}{2}$. Đáp án đúng là \\boxed{\\frac{\\sqrt{10}}{2}}.\",\n",
      "  \"Answer\": \"$\\frac{\\sqrt{10}}{2}$\",\n",
      "  \"Type\": \"LatexExtractionConfig\"\n",
      "}\n",
      "```\n",
      "\n",
      "**Input**\n",
      "\n",
      "Question: Một công ty du lịch dự định tổ chức một tour du lịch xuyên Việt nhân kỉ niệm ngày giải phóng hoàn toàn miền Nam 30 – 4. Công ty dự định nếu giá tour là 2 triệu đồng thì sẽ có khoảng 150 người tham gia. Để kích thích mọi người tham gia, công ty sẽ quyết định giảm giá và cứ mỗi lần giảm giá tour 100 nghìn đồng thì sẽ có thêm 20 người tham gia. Hỏi công ty phải giảm giá tour là còn bao nhiêu tiền để doanh thu từ tour xuyên Việt là lớn nhất.\n",
      "\n",
      "Explanation: Gọi số lần giảm giá 100 000 đồng thì thu được doanh thu lớn nhất là x (lần)\n",
      "⇒ Sau x lần giảm thì giá của tour là:\n",
      "2 000 000 - 100 000.x (đồng).\n",
      "Vì cứ sau 1 lần giảm thì có thêm 20 người tham gia nên sau x lần giảm thì có thêm 20.x (người tham gia) nên tổng số người tham gia sau x lần giảm giá là:\n",
      "150 + 20.x (người)\n",
      "Tổng doanh thu sau x lần giảm giá là:\n",
      "S = (2 000 000 - 100 000.x)(150 + 20x) (đồng)\n",
      "S = 100 000.10(20 - x)(15 + 2x) (đồng)\n",
      "S = 100 000.10(-2x^2 + 25x + 300) (đồng)\n",
      "Xét (-2x^2 + 25x + 300) = -2(x^2 -\\frac{25}{2}x - 150)\n",
      "= -2[(x^2 - 2.\\frac{25}{4}.x + (\\frac{25}{4})^2) - (\\frac{25}{2})^2 - 150]\n",
      "= -2[(x - \\frac{25}{4})^2 - \\frac{3025}{16}]\n",
      "Vì -2(x - \\frac{25}{4})^2 + 2.\\frac{3025}{16} ≤ \\frac{3025}{8}\n",
      "⇒ 100 000.-2[(x - \\frac{25}{4})^2 - \\frac{3025}{16}] ≤ 100 000.\\frac{3025}{8}\n",
      "⇒ 100 000.-2[(x - \\frac{25}{4})^2 - \\frac{3025}{16}] ≤ 378 125 000\n",
      "⇒ S ≤ 378 125 000\n",
      "⇒ S_max ≤ 378 125 000\n",
      "Khi đó x = \\frac{25}{3} = 6,25 (lần)\n",
      "Vậy: Giá tour khi đó: 2 000 000 - 100 000.6,25 = 1 375 000 (đồng).\n",
      "\n"
     ]
    }
   ],
   "source": [
    "from utils import format_prompt\n",
    "\n",
    "print(format_prompt(sample[\"Question\"], sample[\"Explanation\"]))\n"
   ]
  }
 ],
 "metadata": {
  "kernelspec": {
   "display_name": ".venv",
   "language": "python",
   "name": "python3"
  },
  "language_info": {
   "codemirror_mode": {
    "name": "ipython",
    "version": 3
   },
   "file_extension": ".py",
   "mimetype": "text/x-python",
   "name": "python",
   "nbconvert_exporter": "python",
   "pygments_lexer": "ipython3",
   "version": "3.12.3"
  }
 },
 "nbformat": 4,
 "nbformat_minor": 5
}
