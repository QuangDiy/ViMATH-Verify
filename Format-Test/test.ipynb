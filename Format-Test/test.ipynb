{
 "cells": [
  {
   "cell_type": "code",
   "execution_count": null,
   "id": "83c040fe",
   "metadata": {},
   "outputs": [
    {
     "name": "stdout",
     "output_type": "stream",
     "text": [
      "Before:  Đáp án đúng là \\boxed{ 4 650 000 }.\n",
      "After:  Đáp án đúng là \\boxed{ 4 650 000 }.\n",
      "False\n",
      "[1.20000000000000, '1.200']\n",
      "[20, '20']\n"
     ]
    }
   ],
   "source": [
    "from math_verify import verify\n",
    "from math_verify.parser import LatexExtractionConfig, StringExtractionConfig, ExprExtractionConfig, parse\n",
    "import re\n",
    "# Parse the gold and answer\n",
    "# If you know that gold will only contain latex or expr (no latex env), use\n",
    "# parse(gold, extraction_config=[LatexExtractionConfig()]) or parse(gold, extraction_config=[ExprExtractionConfig()])\n",
    "\n",
    "gold = parse(\"Giá ban đầu của một bộ quần áo thể thao nếu không khuyến mãi là $(684\\\\,000 : 95\\\\%) : 60\\\\% = 1\\\\,200\\\\,000$ ( đồng ). Đáp án đúng là \\\\boxed{ 1.200.000 }.\", extraction_config=[ExprExtractionConfig()])\n",
    "answer = parse(\"20\", extraction_config=[ExprExtractionConfig()])\n",
    "\n",
    "# Order here is important!\n",
    "print(verify(gold, answer))\n",
    "\n",
    "print(gold)\n",
    "print(answer)"
   ]
  },
  {
   "cell_type": "code",
   "execution_count": null,
   "id": "faa9b366",
   "metadata": {},
   "outputs": [],
   "source": []
  }
 ],
 "metadata": {
  "kernelspec": {
   "display_name": ".venv",
   "language": "python",
   "name": "python3"
  },
  "language_info": {
   "codemirror_mode": {
    "name": "ipython",
    "version": 3
   },
   "file_extension": ".py",
   "mimetype": "text/x-python",
   "name": "python",
   "nbconvert_exporter": "python",
   "pygments_lexer": "ipython3",
   "version": "3.12.3"
  }
 },
 "nbformat": 4,
 "nbformat_minor": 5
}
